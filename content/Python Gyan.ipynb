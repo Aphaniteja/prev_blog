{
 "cells": [
  {
   "cell_type": "markdown",
   "metadata": {},
   "source": [
    "### 1. __init__.py\n",
    "\n",
    "is used for packages\n",
    "\n",
    "mydir/spam/__init__.py\n",
    "mydir/spam/module.py\n",
    "and mydir is on your path, you can import the code in module.py as\n",
    "\n",
    "import spam.module\n",
    "or\n",
    "\n",
    "from spam import module\n",
    "If you remove the __init__.py file, Python will no longer look for submodules inside that directory, so attempts to import the module will fail.\n",
    "\n",
    "The __init__.py file is usually empty, but can be used to export selected portions of the package under more convenient name, hold convenience functions, etc. Given the example above, the contents of the init module can be accessed as\n",
    "\n",
    "import spam\n",
    "\n",
    "http://www.diveintopython3.net/porting-code-to-python-3-with-2to3.html"
   ]
  },
  {
   "cell_type": "markdown",
   "metadata": {},
   "source": [
    "# 2  Functional programming Basics\n",
    "\n",
    "functions are first class arguments \n",
    "they can take functions as arguments and return functions. ie functions can be used as data\n",
    "\n",
    "## Lambdas:\n",
    "these are anonymous functions. They do not have name associated with them.  \n",
    "limited to one expression   \n",
    "\n",
    "form :  lambda x,y,...: x+y+z..  \n",
    "\n",
    "### Map\n",
    "Map takes a function and a iterable- it evaluates the function on each iterable and returns the values.  \n",
    "\n",
    "### Filter\n",
    "filter takes a function and a iterable.   \n",
    "it evaluates the function condition on each element and returns only the elements for which the function condition is true   \n",
    "\n",
    "### Reduce\n",
    "accumulates and returns a single result.  \n",
    "eg: reduce(lambda x,y:x+y,[1,2,3]) \"----> 6\"  \n",
    "\n",
    "#### differences:\n",
    "map:takes any function that can be applied to individual elements  \n",
    "filter:takes a conditional function  \n",
    "reduce:takes an accumulator funnction  "
   ]
  },
  {
   "cell_type": "markdown",
   "metadata": {},
   "source": [
    "# 3 Decorators\n",
    "* A decorator is a function that takes a function as its only argument and returns a function\n",
    "* A decorator replaces a function with a new decorated function\n",
    "\n",
    "* http://blog.apcelent.com/python-decorator-tutorial-with-example.html\n",
    "eg  below\n",
    "\n",
    "\n"
   ]
  },
  {
   "cell_type": "code",
   "execution_count": 2,
   "metadata": {
    "collapsed": false
   },
   "outputs": [],
   "source": [
    "\n",
    "def func(x):\n",
    "    return x\n",
    "func=func(func)\n",
    "\n",
    "#or \n",
    "@func\n",
    "def func(x):\n",
    "    return x"
   ]
  },
  {
   "cell_type": "markdown",
   "metadata": {},
   "source": [
    "* Functions themselves have attributes and dunder methods as functions are first class objects in python\n",
    "\n",
    "* Example of inner function below"
   ]
  },
  {
   "cell_type": "code",
   "execution_count": 3,
   "metadata": {
    "collapsed": false
   },
   "outputs": [],
   "source": [
    "def add_by(x):\n",
    "    def inner(y):\n",
    "        return x+y\n",
    "    return inner\n",
    "\n",
    "add1=add_by(1)\n",
    "add1(4) #5\n",
    "add_by(5)(10) #15\n",
    "\n",
    "##\n",
    "def add_by(x):\n",
    "    return lambda y:x+y\n"
   ]
  },
  {
   "cell_type": "code",
   "execution_count": 4,
   "metadata": {
    "collapsed": false
   },
   "outputs": [
    {
     "name": "stdout",
     "output_type": "stream",
     "text": [
      "{\"result\": 7}\n"
     ]
    }
   ],
   "source": [
    "import json\n",
    "\n",
    "def as_json(func):\n",
    "    def inner(*args,**kwargs):\n",
    "        result=func(*args,**kwargs)\n",
    "        return json.dumps(result)\n",
    "    return inner\n",
    "#\n",
    "\n",
    "@as_json\n",
    "def func(x,y):\n",
    "    return {\"result\":x+y}\n",
    "\n",
    "print(func(3,4))"
   ]
  },
  {
   "cell_type": "markdown",
   "metadata": {},
   "source": [
    "* the decorators however change the name of the function . To not do that from functools import wraps ,and decorate all of the inner functions with @wraps decorator\n",
    "\n",
    "* to define a decorator which takes in arguments , just use an extra layer of function . Noe the decorator will have three layers of function instead of two layers ."
   ]
  },
  {
   "cell_type": "markdown",
   "metadata": {},
   "source": [
    "### Closures"
   ]
  },
  {
   "cell_type": "raw",
   "metadata": {},
   "source": [
    ">>> def outer(x):\n",
    "...     def inner():\n",
    "...         print x # 1\n",
    "...     return inner\n",
    ">>> print1 = outer(1)\n",
    ">>> print2 = outer(2)\n",
    "\n"
   ]
  },
  {
   "cell_type": "markdown",
   "metadata": {},
   "source": [
    "From this example you can see that closures - the fact that functions remember their enclosing scope - can be used to build custom functions that have, essentially, a hard coded argument. We aren’t passing the numbers 1 or 2 to our inner function but are building custom versions of our inner function that \"remembers\" what number it should print.\n",
    "\n",
    "This alone is a powerful technique - you might even think of it as similar to object oriented techniques in some ways: outer is a constructor for inner with x acting like a private member variable. And the uses are numerous - if you are familiar with the key parameter in Python’s sorted function you have probably written a lambda function to sort a list of lists by the second item instead of the first. You might now be able to write an itemgetter function that accepts the index to retrieve and returns a function that could suitably be passed to the key parameter.\n",
    "\n",
    "But let’s not do anything so mundane with closures! Instead let’s stretch one more time and write a decorator!"
   ]
  },
  {
   "cell_type": "markdown",
   "metadata": {},
   "source": [
    "### Underscore\n",
    "\n",
    "*  A single underscore before a variable is used to indicate a provate variable. that means when importing these functions or variables are not imported. But in python nothing is truly private\n",
    "https://hackernoon.com/understanding-the-underscore-of-python-309d1a029edc"
   ]
  },
  {
   "cell_type": "markdown",
   "metadata": {},
   "source": [
    "# 4 More Functional Programming\n",
    "\n",
    "* A function which accepts a function as an argument or returns a function is called a higher order function.\n",
    "\n",
    "* Iterators:\n",
    "Anything for which next function is defined\n",
    "\n",
    "## Generators\n",
    "* Generator expressions can be created in a list comprehension way too\n",
    "(x*x for x in [2,3,4])\n",
    "\n",
    "* Use yield to create a generator in a function instead of return.\n",
    "  you can still change variables after using yield\n",
    " \n",
    "* cannot mix yield and return \n",
    "  \n",
    "* They save ton loads of memory.\n",
    "\n",
    "![title](relationships.png)\n",
    "\n",
    "credit - http://nvie.com/posts/iterators-vs-generators/\n",
    "\n",
    "## Iterators:\n",
    "* You can pass an iterator into any container\n",
    "* you can loop over them only once\n",
    "* To make your object iterator ,implement __iter__ method in your class.\n",
    "\n",
    "\n",
    "## Itertools\n",
    "\n",
    "* itertools.tee allow you to construct duplicate iterators , so that you can loop over them multiple times.\n",
    "\n",
    "\n"
   ]
  },
  {
   "cell_type": "markdown",
   "metadata": {},
   "source": [
    "# 5.Assorted\n",
    "\n",
    " * sys.getsizeof to find the memory of a variable in python\n",
    " * list.sort() sorts a list\n",
    " * looping through dictionary with items(iter.itervalues in py2.7)\n",
    " * To loop over two or more sequences at the same time, the entries can be paired with the zip() function\n",
    " * To loop over a sequence in sorted order, use the sorted() function which returns a new sorted list while leaving the source unaltered\n",
    " * To loop over a sequence in reverse, first specify the sequence in a forward direction and then call the reversed() function.\n",
    " * The built-in function dir() is used to find out which names a module defines\n",
    " * The str() function is meant to return representations of values which are fairly human-readable, while repr() is meant to generate representations which can be read by the interpreter\n",
    " * dir() and ?function(),help function gives us information \n",
    " \n",
    " * The single star * unpacks the sequence/collection into positional arguments. The double star ** does the same, only using a dictionary and thus named arguments:\n",
    " \n",
    " * id() gives the unique id of a reference\n",
    "\n",
    "\n",
    "* repr() is intended to be unambiguous. str() is intended to be readable.\n",
    "\n",
    " \n",
    " ## Reading and writing\n",
    " \n",
    " * It is good practice to use the \"with\" keyword when dealing with file objects. The advantage is that the file is properly closed after its suite finishes, even if an exception is raised at some point. Using with is also much shorter than writing equivalent try-finally blocks:\n",
    " \n",
    " * For reading lines from a file, you can loop over the file object. This is memory efficient, fast, and leads to simple code\n",
    " \n",
    " * If you want to read all the lines of a file in a list you can also use list(f) or f.readlines().\n",
    " \n",
    " ## Data Structures\n",
    " \n",
    " * string and list indexing  - a[start:stop:step] . To reverse a[::-1]\n",
    "\n",
    "  ### Dictionaries:\n",
    "   * d={}, d.get(color,0)\n",
    "  ### Deque \n",
    "\n",
    " \n",
    " "
   ]
  },
  {
   "cell_type": "markdown",
   "metadata": {},
   "source": [
    "# 6. Classes\n",
    "\n",
    "* class variable- common to all classes. They can keep track of information across all instances\n",
    "* instance variables - each instance of the class has its own value\n",
    "* Regular methods in a class automatically takes self as the first argument.\n",
    "* class methods are created with class method decorator \n",
    "* class methods take class as first argument\n",
    "* class methods can be used as alternative constructors\n",
    "* static methods don't take any argument automatically\n",
    "* static methods are similar to normal regular functions except that they may be appropriate to the class we are dealing with \n",
    "* static methods are created with static method decorator \n",
    "\n",
    "### Inheritence\n",
    "* We can inherit from other classes .\n",
    "* methods can be overridden. Init method can be overridden by using super().__init__\n",
    "\n",
    "### Special/dunder methods\n",
    "__inti__  \n",
    "__repr__  \n",
    "__str__  \n",
    "__iter__  \n",
    "are some examples of dunder methods"
   ]
  },
  {
   "cell_type": "markdown",
   "metadata": {},
   "source": [
    "# 7.  Python Standard Library"
   ]
  },
  {
   "cell_type": "markdown",
   "metadata": {},
   "source": [
    "## OS\n",
    "* gives access to getcwd(),chdir(),makedirs(),listdir() etc \n",
    "* environ gives environment variables\n",
    "\n",
    "## String formatting\n",
    "* always use it."
   ]
  },
  {
   "cell_type": "markdown",
   "metadata": {},
   "source": [
    "# 8. Ipython\n",
    "\n",
    "* %lsmagic gives Magic commands \n",
    "* %reset clears the namespace\n",
    "* %hist gives the history\n",
    "* %timeit \n",
    "* %logstart writes log to \n",
    "* output = !cmd args Run cmd and store the stdout in output\n",
    "* %paste - pastes in a code format\n",
    "* %whos- information about all the variables in the current session\n",
    "* %alias alias_name cmd Define an alias for a system (shell) command\n",
    "    %bookmark Utilize IPython’s directory bookmarking system  \n",
    "    %cd directory Change system working directory to passed directory  \n",
    "    %pwd Return the current system working directory  \n",
    "    %pushd directory Place current directory on stack and change to target directory  \n",
    "    %popd Change to directory popped off the top of the stack  \n",
    "    %dirs Return a list containing the current directory stack  \n",
    "    %dhist Print the history of visited directories  \n",
    "    %env Return the system environment variables as a dict  \n",
    "* Starting a line in IPython with an exclamation point !, or bang, tells IPython to execute\n",
    "  everything after the bang in the system shell.     \n",
    "\n",
    "\n",
    "## timing and profiling \n",
    "\n",
    "*  Profiling code is closely related to timing code, except it is concerned with determining\n",
    "    where time is spent\n",
    "* A common way to use cProfile is on the command line, running an entire program\n",
    "  and outputting the aggregated time per function    \n",
    "  \n",
    "* . IPython has a convenient interface to this capability using the %prun command and the -p option\n",
    "   to %run. %prun takes the same “command line options” as cProfile but will profile an\n",
    "   arbitrary Python statement instead of a while .py file:  \n",
    "  \n"
   ]
  },
  {
   "cell_type": "markdown",
   "metadata": {
    "collapsed": true
   },
   "source": [
    "# 9. Numpy"
   ]
  },
  {
   "cell_type": "markdown",
   "metadata": {},
   "source": [
    "* numpy.random.rand(a1,a2,....): creates a random nd array of shape(a1,a2,..)\n",
    "* we can query the shape with data.shape  . It is an attribute rather than a function    \n",
    "* np.array function accepts a sequence to create an array \n",
    "* np.zeros,np.zeros_like,np.ones,np.ones_like,np.empty,np.empty_like are some functions to create arrays\n",
    "* np.arange is used to create a sequence \n",
    "* you can cast a dtype by the function arr.astype()\n",
    "* Calling astype always creates a new array (a copy of the data), even if\n",
    "  the new dtype is the same as the old dtype.\n",
    "  \n",
    "  \n",
    "### Operations between array and scalar\n",
    "\n",
    "*  Any arithmetic operations between equal-size arrays applies the operation elementwise\n",
    "\n",
    "### Basic Indexing and Slicing \n",
    "* like normal list slicing  a [start:stop:step]\n",
    "*  An important first distinction from lists is that array slices are views on the original array. This means that\n",
    "   the data is not copied, and any modifications to the view will be reflected in the source array\n",
    "* If you want a copy of a slice of an ndarray instead of a view, you will\n",
    "  need to explicitly copy the array; for example arr[5:8].copy().   \n",
    "  \n",
    "* In multidimensional case you can index by different forms"
   ]
  },
  {
   "cell_type": "code",
   "execution_count": 1,
   "metadata": {
    "collapsed": false
   },
   "outputs": [
    {
     "name": "stdout",
     "output_type": "stream",
     "text": [
      "[[1 2 3]\n",
      " [2 3 4]\n",
      " [4 5 6]\n",
      " [7 8 9]]\n",
      "6\n",
      "6\n",
      "[4 6]\n",
      "[[4]\n",
      " [6]\n",
      " [9]]\n"
     ]
    }
   ],
   "source": [
    "## multi dimensional array slicing\n",
    "import numpy as np\n",
    "a= np.array([[1,2,3],[2,3,4],[4,5,6],[7,8,9]])\n",
    "print (a)\n",
    "print(a[2,2])\n",
    "print(a [2][2])\n",
    "print( a[(1,2),(2,2)] )\n",
    "print(a[1:,2:] )"
   ]
  },
  {
   "cell_type": "markdown",
   "metadata": {},
   "source": [
    "### Boolean indexing\n",
    "\n",
    "* We can create a mask ,and pass that to the array to index\n",
    "\n",
    "    mask=data<0  \n",
    "    data[mask]=0\n"
   ]
  },
  {
   "cell_type": "markdown",
   "metadata": {},
   "source": [
    "### Fancy Indexing\n",
    "\n",
    "* Fancy indexing is a term adopted by NumPy to describe indexing using integer arrays\n",
    "\n",
    "* Suppose we had a 8 × 4 array:\n",
    "     array([[ 0., 0., 0., 0.],\n",
    "         [ 1., 1., 1., 1.],\n",
    "         [ 2., 2., 2., 2.],\n",
    "         [ 3., 3., 3., 3.],\n",
    "         [ 4., 4., 4., 4.],\n",
    "         [ 5., 5., 5., 5.],\n",
    "         [ 6., 6., 6., 6.],\n",
    "         [ 7., 7., 7., 7.]])  \n",
    "     To select out a subset of the rows in a particular order, you can simply pass a list or\n",
    "     ndarray of integers specifying the desired order:  \n",
    "      arr[[4, 3, 0, 6]] ----->  \n",
    "      array([[ 4., 4., 4., 4.],\n",
    "             [ 3., 3., 3., 3.],\n",
    "             [ 0., 0., 0., 0.],\n",
    "             [ 6., 6., 6., 6.]])\n",
    "     Passing multiple index arrays does something slightly different; it selects a 1D array of\n",
    "     elements corresponding to each tuple of indices:   \n",
    "      arr[[1, 5, 7, 2], [0, 3, 1, 2]] -------->array([1,5,7,2])  \n",
    "      \n",
    "      To get multiple rows and columns  \n",
    "      arr[[1,5,7,2]][:,[0,3,1,2]] --------> array([[ 1.,  1.,  1.,  1.],\n",
    "                                                   [ 5.,  5.,  5.,  5.],\n",
    "                                                   [ 7.,  7.,  7.,  7.],\n",
    "                                                   [ 2.,  2.,  2.,  2.]])\n",
    "      Another way is to use the np.ix_ function, which converts two 1D integer arrays to an\n",
    "      indexer that selects the square region:   \n",
    "      arr[np._ix([1,5,7,2],[0,3,1,2])] --------> array([[ 1.,  1.,  1.,  1.],\n",
    "                                                       [ 5.,  5.,  5.,  5.],\n",
    "                                                       [ 7.,  7.,  7.,  7.],\n",
    "                                                       [ 2.,  2.,  2.,  2.]])\n",
    "      Keep in mind that fancy indexing, unlike slicing, always copies the data into a new array.                                                 \n"
   ]
  },
  {
   "cell_type": "markdown",
   "metadata": {},
   "source": [
    "### Transpose,permutations and swapping axis\n",
    "\n",
    "* simple transpose ---> arr.T\n",
    "* swap axis \n",
    "   arr =np.array([[[ 0, 1, 2, 3],\n",
    "         [ 8, 9, 10, 11]],\n",
    "         [[ 4, 5, 6, 7],\n",
    "         [12, 13, 14, 15]]])\n",
    "   arr.swapaxes(1,2) ---->      array([[[ 0,  8],\n",
    "                                        [ 1,  9],\n",
    "                                        [ 2, 10],\n",
    "                                        [ 3, 11]],\n",
    "\n",
    "                                       [[ 4, 12],\n",
    "                                        [ 5, 13],\n",
    "                                        [ 6, 14],\n",
    "                                        [ 7, 15]]])\n",
    "\n",
    "\n",
    "         "
   ]
  },
  {
   "cell_type": "markdown",
   "metadata": {},
   "source": [
    "### Universal Functions: Fast Element-wise Array Functions\n",
    "* There are two types : unary ufuncs(abs,add,log,exp ,etc) and binary ufuncs(add,subtract,multiply,etc)\n",
    "* they act element wise\n"
   ]
  },
  {
   "cell_type": "markdown",
   "metadata": {},
   "source": [
    "### Expressing conditional logic as array operations"
   ]
  },
  {
   "cell_type": "code",
   "execution_count": 6,
   "metadata": {
    "collapsed": false
   },
   "outputs": [
    {
     "name": "stdout",
     "output_type": "stream",
     "text": [
      "[1.1000000000000001, 2.2000000000000002, 1.3, 1.3999999999999999, 2.5]\n",
      "[ 1.1  2.2  1.3  1.4  2.5]\n",
      "[[ 0.90075418  0.16679508  0.45426646  0.18174287]\n",
      " [-0.11260066  0.06551077  1.19528923 -0.8552179 ]\n",
      " [-0.73740248 -0.70275337  1.27751912  0.55344916]\n",
      " [-0.615925   -0.63455435  1.9057229  -1.44692864]]\n"
     ]
    },
    {
     "data": {
      "text/plain": [
       "array([[ 2.        ,  2.        ,  2.        ,  2.        ],\n",
       "       [-0.11260066,  2.        ,  2.        , -0.8552179 ],\n",
       "       [-0.73740248, -0.70275337,  2.        ,  2.        ],\n",
       "       [-0.615925  , -0.63455435,  2.        , -1.44692864]])"
      ]
     },
     "execution_count": 6,
     "metadata": {},
     "output_type": "execute_result"
    }
   ],
   "source": [
    "xarr = np.array([1.1, 1.2, 1.3, 1.4, 1.5])\n",
    "yarr = np.array([2.1, 2.2, 2.3, 2.4, 2.5])\n",
    "cond = np.array([True, False, True, True, False])\n",
    "\n",
    "\n",
    "result = [(x if c else y)\n",
    "          for x, y, c in zip(xarr, yarr, cond)]\n",
    "print(result)\n",
    "\n",
    "result = np.where(cond, xarr, yarr)\n",
    "print(result)\n",
    "\n",
    "arr = np.random.randn(4, 4)\n",
    "print(arr)\n",
    "np.where(arr > 0, 2, -2)\n",
    "np.where(arr > 0, 2, arr) # set only positive values to 2\n",
    "\n"
   ]
  },
  {
   "cell_type": "markdown",
   "metadata": {},
   "source": [
    "### Mathematical and Statistical Methods\n",
    "\n",
    "sum :Sum of all the elements in the array or along an axis. Zero-length arrays have sum 0.  \n",
    "mean :Arithmetic mean. Zero-length arrays have NaN mean.  \n",
    "std, var :Standard deviation and variance, respectively, with optional degrees of freedom adjustment  \n",
    "(default denominator n).  \n",
    "min, max:  Minimum and maximum.   \n",
    "argmin, argmax :Indices of minimum and maximum elements, respectively.  \n",
    "cumsum :Cumulative sum of elements starting from 0  \n",
    "cumprod : Cumulative product of elements starting from 1  \n",
    "\n",
    "\n",
    "####\n",
    "0 axis refers to reduce over column, and 1 axis refers to reduce over row"
   ]
  },
  {
   "cell_type": "markdown",
   "metadata": {},
   "source": [
    "### Methods for Boolean Arrays\n",
    "\n"
   ]
  },
  {
   "cell_type": "code",
   "execution_count": 7,
   "metadata": {
    "collapsed": false
   },
   "outputs": [
    {
     "data": {
      "text/plain": [
       "47"
      ]
     },
     "execution_count": 7,
     "metadata": {},
     "output_type": "execute_result"
    }
   ],
   "source": [
    "arr = np.random.randn(100)\n",
    "(arr > 0).sum() # Number of positive values"
   ]
  },
  {
   "cell_type": "code",
   "execution_count": 8,
   "metadata": {
    "collapsed": false
   },
   "outputs": [
    {
     "name": "stdout",
     "output_type": "stream",
     "text": [
      "True\n",
      "False\n"
     ]
    }
   ],
   "source": [
    "bools = np.array([False, False, True, False])\n",
    "print(bools.any())\n",
    "print(bools.all())"
   ]
  },
  {
   "cell_type": "markdown",
   "metadata": {},
   "source": [
    "### Sorting \n",
    "\n",
    "Like Python’s built-in list type, NumPy arrays can be sorted in-place using the sort\n",
    "method:"
   ]
  },
  {
   "cell_type": "code",
   "execution_count": 9,
   "metadata": {
    "collapsed": false
   },
   "outputs": [
    {
     "name": "stdout",
     "output_type": "stream",
     "text": [
      "[-0.21706048  0.54325765 -0.39091516 -0.5849242   0.10696251 -1.23559697\n",
      " -0.88265301  0.0890195 ]\n",
      "[-1.23559697 -0.88265301 -0.5849242  -0.39091516 -0.21706048  0.0890195\n",
      "  0.10696251  0.54325765]\n"
     ]
    }
   ],
   "source": [
    "arr = np.random.randn(8)\n",
    "print(arr)\n",
    "arr.sort()\n",
    "print(arr)"
   ]
  },
  {
   "cell_type": "code",
   "execution_count": 10,
   "metadata": {
    "collapsed": false
   },
   "outputs": [
    {
     "data": {
      "text/plain": [
       "-1.5984915363254169"
      ]
     },
     "execution_count": 10,
     "metadata": {},
     "output_type": "execute_result"
    }
   ],
   "source": [
    "large_arr = np.random.randn(1000)\n",
    "large_arr.sort()\n",
    "large_arr[int(0.05 * len(large_arr))] # 5% quantile"
   ]
  },
  {
   "cell_type": "markdown",
   "metadata": {},
   "source": [
    "* Multidimensional arrays can have each 1D section of values sorted in-place along an\n",
    "  axis by passing the axis number to sort:"
   ]
  },
  {
   "cell_type": "markdown",
   "metadata": {},
   "source": [
    "### Unique and Other Set Logic\n"
   ]
  },
  {
   "cell_type": "code",
   "execution_count": 11,
   "metadata": {
    "collapsed": false
   },
   "outputs": [
    {
     "name": "stdout",
     "output_type": "stream",
     "text": [
      "['Bob' 'Joe' 'Will']\n",
      "[1 2 3 4]\n"
     ]
    }
   ],
   "source": [
    "## np.unique()\n",
    "names = np.array(['Bob', 'Joe', 'Will', 'Bob', 'Will', 'Joe', 'Joe'])\n",
    "print(np.unique(names))\n",
    "ints = np.array([3, 3, 3, 2, 2, 1, 1, 4, 4])\n",
    "print(np.unique(ints))"
   ]
  },
  {
   "cell_type": "code",
   "execution_count": 12,
   "metadata": {
    "collapsed": false
   },
   "outputs": [
    {
     "data": {
      "text/plain": [
       "['Bob', 'Joe', 'Will']"
      ]
     },
     "execution_count": 12,
     "metadata": {},
     "output_type": "execute_result"
    }
   ],
   "source": [
    "sorted(set(names))"
   ]
  },
  {
   "cell_type": "code",
   "execution_count": 13,
   "metadata": {
    "collapsed": false
   },
   "outputs": [
    {
     "data": {
      "text/plain": [
       "array([ True, False, False,  True,  True, False,  True], dtype=bool)"
      ]
     },
     "execution_count": 13,
     "metadata": {},
     "output_type": "execute_result"
    }
   ],
   "source": [
    "## in1d\n",
    "values = np.array([6, 0, 0, 3, 2, 5, 6])\n",
    "np.in1d(values, [2, 3, 6])"
   ]
  },
  {
   "cell_type": "markdown",
   "metadata": {},
   "source": [
    "### File Input and Output with Arrays"
   ]
  },
  {
   "cell_type": "code",
   "execution_count": 14,
   "metadata": {
    "collapsed": true
   },
   "outputs": [],
   "source": [
    "## save\n",
    "arr = np.arange(10)\n",
    "np.save('some_array', arr)"
   ]
  },
  {
   "cell_type": "code",
   "execution_count": 15,
   "metadata": {
    "collapsed": false
   },
   "outputs": [
    {
     "data": {
      "text/plain": [
       "array([0, 1, 2, 3, 4, 5, 6, 7, 8, 9])"
      ]
     },
     "execution_count": 15,
     "metadata": {},
     "output_type": "execute_result"
    }
   ],
   "source": [
    "## load\n",
    "np.load(\"some_array.npy\")"
   ]
  },
  {
   "cell_type": "code",
   "execution_count": 16,
   "metadata": {
    "collapsed": false
   },
   "outputs": [
    {
     "data": {
      "text/plain": [
       "array([0, 1, 2, 3, 4, 5, 6, 7, 8, 9])"
      ]
     },
     "execution_count": 16,
     "metadata": {},
     "output_type": "execute_result"
    }
   ],
   "source": [
    "##You save multiple arrays in a zip archive using np.savez and passing the arrays as keyword\n",
    "##arguments:\n",
    "\n",
    "np.savez('array_archive.npz', a=arr, b=arr)\n",
    "arch = np.load('array_archive.npz')\n",
    "arch['b']"
   ]
  },
  {
   "cell_type": "markdown",
   "metadata": {},
   "source": [
    "### Linear algebra\n"
   ]
  },
  {
   "cell_type": "code",
   "execution_count": 17,
   "metadata": {
    "collapsed": false
   },
   "outputs": [
    {
     "data": {
      "text/plain": [
       "array([[  28.,   64.],\n",
       "       [  67.,  181.]])"
      ]
     },
     "execution_count": 17,
     "metadata": {},
     "output_type": "execute_result"
    }
   ],
   "source": [
    "x = np.array([[1., 2., 3.], [4., 5., 6.]])\n",
    "y = np.array([[6., 23.], [-1, 7], [8, 9]])\n",
    "x\n",
    "y\n",
    "x.dot(y)"
   ]
  },
  {
   "cell_type": "code",
   "execution_count": 18,
   "metadata": {
    "collapsed": false
   },
   "outputs": [
    {
     "data": {
      "text/plain": [
       "array([[-3.84532452,  1.35773073, -0.08981066, -5.57736965, -2.52140486],\n",
       "       [ 0.        , -6.17009771, -3.54017388, -1.29300315,  2.47074836],\n",
       "       [ 0.        ,  0.        , -8.26782207,  1.70930942,  3.33485107],\n",
       "       [ 0.        ,  0.        ,  0.        , -1.56142987, -0.08197386],\n",
       "       [ 0.        ,  0.        ,  0.        ,  0.        ,  0.08682534]])"
      ]
     },
     "execution_count": 18,
     "metadata": {},
     "output_type": "execute_result"
    }
   ],
   "source": [
    "from numpy.linalg import inv, qr\n",
    "X = np.random.randn(5, 5)\n",
    "mat = X.T.dot(X)\n",
    "inv(mat)\n",
    "mat.dot(inv(mat))\n",
    "q, r = qr(mat)\n",
    "r"
   ]
  },
  {
   "cell_type": "markdown",
   "metadata": {},
   "source": [
    "### Random number generation\n"
   ]
  },
  {
   "cell_type": "markdown",
   "metadata": {},
   "source": [
    "seed :Seed the random number generator  \n",
    "permutation: Return a random permutation of a sequence, or return a permuted range   \n",
    "shuffle :Randomly permute a sequence in place  \n",
    "rand: Draw samples from a uniform distribution  \n",
    "randint: Draw random integers from a given low-to-high range  \n",
    "randn: Draw samples from a normal distribution with mean 0 and standard deviation 1 (MATLAB-like interface)  \n",
    "binomial: Draw samples a binomial distribution  \n",
    "normal: Draw samples from a normal (Gaussian) distribution  \n",
    "beta :Draw samples from a beta distribution  \n",
    "chisquare: Draw samples from a chi-square distribution  \n",
    "gamma: Draw samples from a gamma distribution  \n",
    "uniform: Draw samples from a uniform [0, 1) distribution  "
   ]
  },
  {
   "cell_type": "markdown",
   "metadata": {},
   "source": [
    "### Stacking\n",
    "\n",
    "* stack : Join a sequence of arrays along a new axis. The `axis` parameter specifies the index of the new axis in the dimensions of the result. For example, if ``axis=0`` it will be the first dimensionand if ``axis=-1`` it will be the last dimension.\n",
    "\n",
    "* vstack : Stack arrays in sequence vertically (row wise).\n",
    "* hstack : Stack arrays in sequence horizontally (column wise).\n",
    "* dstack : Stack arrays in sequence depth wise (along third dimension).\n",
    "* concatenate : Join a sequence of arrays along an existing axis.\n",
    "* vsplit : Split array into a list of multiple sub-arrays vertically.\n",
    "\n",
    "\n"
   ]
  },
  {
   "cell_type": "code",
   "execution_count": 19,
   "metadata": {
    "collapsed": false
   },
   "outputs": [
    {
     "name": "stdout",
     "output_type": "stream",
     "text": [
      "(2, 3, 4)\n",
      "(2, 3, 4) \n",
      "\n",
      "(2, 2, 3, 4) \n",
      "\n",
      "(1, 2, 3, 4)\n",
      "(1, 2, 3, 4) \n",
      "\n",
      "(2, 2, 3, 4)\n"
     ]
    }
   ],
   "source": [
    "a=np.ones([2,3,4])\n",
    "b=np.zeros([2,3,4])\n",
    "c=np.stack((a,b))\n",
    "print(a.shape)\n",
    "print(b.shape,\"\\n\")\n",
    "\n",
    "print(c.shape,\"\\n\")\n",
    "\n",
    "\n",
    "a=a.reshape([1,*a.shape])\n",
    "b=b.reshape([1,*b.shape])\n",
    "\n",
    "\n",
    "print(a.shape)\n",
    "print(b.shape,\"\\n\")\n",
    "\n",
    "c=np.vstack((a,b))\n",
    "\n",
    "print(c.shape)\n"
   ]
  },
  {
   "cell_type": "markdown",
   "metadata": {},
   "source": [
    "## Image Manipulation\n",
    "\n",
    "\n"
   ]
  },
  {
   "cell_type": "code",
   "execution_count": null,
   "metadata": {
    "collapsed": true
   },
   "outputs": [],
   "source": []
  }
 ],
 "metadata": {
  "anaconda-cloud": {},
  "kernelspec": {
   "display_name": "Python [conda env:py35]",
   "language": "python",
   "name": "conda-env-py35-py"
  },
  "language_info": {
   "codemirror_mode": {
    "name": "ipython",
    "version": 3
   },
   "file_extension": ".py",
   "mimetype": "text/x-python",
   "name": "python",
   "nbconvert_exporter": "python",
   "pygments_lexer": "ipython3",
   "version": "3.5.2"
  }
 },
 "nbformat": 4,
 "nbformat_minor": 1
}
